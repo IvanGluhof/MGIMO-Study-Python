{
 "cells": [
  {
   "cell_type": "code",
   "execution_count": 41,
   "metadata": {},
   "outputs": [],
   "source": [
    "import numpy as np\n",
    "import pandas as pd\n",
    "import matplotlib.pyplot as plt\n",
    "from sklearn.linear_model import LinearRegression"
   ]
  },
  {
   "cell_type": "code",
   "execution_count": 42,
   "metadata": {},
   "outputs": [],
   "source": [
    "data = pd.read_csv(\"тут цсв 1\")"
   ]
  },
  {
   "cell_type": "code",
   "execution_count": 43,
   "metadata": {},
   "outputs": [
    {
     "data": {
      "text/html": [
       "<div>\n",
       "<style scoped>\n",
       "    .dataframe tbody tr th:only-of-type {\n",
       "        vertical-align: middle;\n",
       "    }\n",
       "\n",
       "    .dataframe tbody tr th {\n",
       "        vertical-align: top;\n",
       "    }\n",
       "\n",
       "    .dataframe thead th {\n",
       "        text-align: right;\n",
       "    }\n",
       "</style>\n",
       "<table border=\"1\" class=\"dataframe\">\n",
       "  <thead>\n",
       "    <tr style=\"text-align: right;\">\n",
       "      <th></th>\n",
       "      <th>x</th>\n",
       "      <th>y</th>\n",
       "    </tr>\n",
       "  </thead>\n",
       "  <tbody>\n",
       "    <tr>\n",
       "      <th>0</th>\n",
       "      <td>-0.58800</td>\n",
       "      <td>5.091700</td>\n",
       "    </tr>\n",
       "    <tr>\n",
       "      <th>1</th>\n",
       "      <td>-1.91350</td>\n",
       "      <td>1.827800</td>\n",
       "    </tr>\n",
       "    <tr>\n",
       "      <th>2</th>\n",
       "      <td>0.66758</td>\n",
       "      <td>1.982600</td>\n",
       "    </tr>\n",
       "    <tr>\n",
       "      <th>3</th>\n",
       "      <td>1.70420</td>\n",
       "      <td>3.656800</td>\n",
       "    </tr>\n",
       "    <tr>\n",
       "      <th>4</th>\n",
       "      <td>-0.87434</td>\n",
       "      <td>4.655800</td>\n",
       "    </tr>\n",
       "    <tr>\n",
       "      <th>...</th>\n",
       "      <td>...</td>\n",
       "      <td>...</td>\n",
       "    </tr>\n",
       "    <tr>\n",
       "      <th>295</th>\n",
       "      <td>-1.63170</td>\n",
       "      <td>1.820200</td>\n",
       "    </tr>\n",
       "    <tr>\n",
       "      <th>296</th>\n",
       "      <td>-0.49322</td>\n",
       "      <td>5.185300</td>\n",
       "    </tr>\n",
       "    <tr>\n",
       "      <th>297</th>\n",
       "      <td>-1.24640</td>\n",
       "      <td>0.066801</td>\n",
       "    </tr>\n",
       "    <tr>\n",
       "      <th>298</th>\n",
       "      <td>-1.93700</td>\n",
       "      <td>0.218600</td>\n",
       "    </tr>\n",
       "    <tr>\n",
       "      <th>299</th>\n",
       "      <td>-0.27379</td>\n",
       "      <td>1.512600</td>\n",
       "    </tr>\n",
       "  </tbody>\n",
       "</table>\n",
       "<p>300 rows × 2 columns</p>\n",
       "</div>"
      ],
      "text/plain": [
       "           x         y\n",
       "0   -0.58800  5.091700\n",
       "1   -1.91350  1.827800\n",
       "2    0.66758  1.982600\n",
       "3    1.70420  3.656800\n",
       "4   -0.87434  4.655800\n",
       "..       ...       ...\n",
       "295 -1.63170  1.820200\n",
       "296 -0.49322  5.185300\n",
       "297 -1.24640  0.066801\n",
       "298 -1.93700  0.218600\n",
       "299 -0.27379  1.512600\n",
       "\n",
       "[300 rows x 2 columns]"
      ]
     },
     "execution_count": 43,
     "metadata": {},
     "output_type": "execute_result"
    }
   ],
   "source": [
    "data"
   ]
  },
  {
   "cell_type": "code",
   "execution_count": 69,
   "metadata": {},
   "outputs": [
    {
     "name": "stdout",
     "output_type": "stream",
     "text": [
      "4.260562830090645\n",
      "3.7481460451792796\n",
      "4.717807987512399\n"
     ]
    },
    {
     "data": {
      "image/png": "[encoded data removed]",
      "text/plain": [
       "<Figure size 432x288 with 1 Axes>"
      ]
     },
     "metadata": {
      "needs_background": "light"
     },
     "output_type": "display_data"
    }
   ],
   "source": [
    "#ТУТ ТОЖЕ ДОЛЖЕН БЫЛ БЫТЬ ХОЛДАУТ, НО ЕГО НЕТ. ВОЗМОЖНО, ЕЩЕ ДОЛЖНО БЫТЬ РАЗБИЕНИЕ НА ТЕСТ И ТРЕЙН\n",
    "\n",
    "x = np.reshape(np.array(data.x), (-1, 1))\n",
    "X = x\n",
    "n = x.shape[0]\n",
    "plt.scatter(data.x, data.y, 1)\n",
    "errs = []\n",
    "for m in range(2,61):\n",
    "    X = np.hstack( (X, x**m) )\n",
    "    #print(X)\n",
    "    reg = LinearRegression().fit(X, data.y)\n",
    "    yp = reg.predict(X)\n",
    "    k = yp.shape[0]\n",
    "    if m == 4:\n",
    "        plt.scatter(data.x, yp, 1)\n",
    "        err1 = np.sum((data.y - yp)**2)/k\n",
    "        print(err1)\n",
    "    if m == 23:\n",
    "        plt.scatter(data.x, yp, 1)\n",
    "        err2 = np.sum((data.y - yp)**2)/k\n",
    "        print(err2)\n",
    "    if m == 60:\n",
    "        plt.scatter(data.x, yp, 1)\n",
    "        err3 = np.sum((data.y - yp)**2)/k\n",
    "        print(err3)\n",
    "    #errs.append(np.sum((data.y - yp)**2)/n)\n",
    "    \n",
    "    \n",
    "    "
   ]
  }
 ],
 "metadata": {
  "kernelspec": {
   "display_name": "Python 3",
   "language": "python",
   "name": "python3"
  },
  "language_info": {
   "codemirror_mode": {
    "name": "ipython",
    "version": 3
   },
   "file_extension": ".py",
   "mimetype": "text/x-python",
   "name": "python",
   "nbconvert_exporter": "python",
   "pygments_lexer": "ipython3",
   "version": "3.8.3"
  }
 },
 "nbformat": 4,
 "nbformat_minor": 4
}
