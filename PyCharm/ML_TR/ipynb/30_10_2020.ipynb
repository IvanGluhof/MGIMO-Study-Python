{
  "nbformat": 4,
  "nbformat_minor": 0,
  "metadata": {
    "colab": {
      "name": "30/10/2020.ipynb",
      "provenance": [],
      "collapsed_sections": []
    },
    "kernelspec": {
      "name": "python3",
      "display_name": "Python 3"
    }
  },
  "cells": [
    {
      "cell_type": "code",
      "metadata": {
        "id": "2IkjbPaDKIwx",
        "outputId": "ea7bccf5-a199-4738-a572-8a1a58070570",
        "colab": {
          "base_uri": "https://localhost:8080/",
          "height": 282
        }
      },
      "source": [
        "import random\n",
        "import math\n",
        "import numpy as np\n",
        "import matplotlib.pyplot as plt\n",
        "from scipy.optimize import curve_fit\n",
        "bins=np.linspace(0,1,21)\n",
        "#center=(bins[:-1]-bins[0]) \n",
        "center=(bins[:-1]+bins[1:])/2.\n",
        "width=bins[1]-bins[0]\n",
        "b=np.linspace(0,1,1000)\n",
        "data=[]\n",
        "def getsin():\n",
        "  while True: \n",
        "    x=random.random()\n",
        "    y=random.random()\n",
        "    if y < math.sin(((math.pi))*x):\n",
        "      return x\n",
        "\n",
        "def ffit(x, m, n, sigma):\n",
        "  #return (m*np.exp(-((x-n)**2)/(2*((sigma)**2))))\n",
        "  return (m*np.sin(n*x+sigma))\n",
        "def getnormal():\n",
        "  summ=0\n",
        "  for q in range(10):\n",
        "    summ+=np.random.uniform(0,1)\n",
        "  summ=summ/10\n",
        "  return summ\n",
        "\n",
        "for i in range(1000):\n",
        "  x=getsin()\n",
        "  #x=np.random.uniform(0,1)\n",
        "  #x, sigma = 0.5, 0.1\n",
        "  #x=np.random.normal(x, sigma)\n",
        "  data.append(x)\n",
        "data_enters,_=np.histogram(data,bins=bins)\n",
        "popt,_=curve_fit(ffit, xdata=center, ydata=data_enters, p0=[3,0.5,0.1,], maxfev=10000)\n",
        "plt.bar(center,data_enters,width=width)\n",
        "plt.plot(b, ffit(b,*popt), color=\"green\", linewidth=3)\n",
        "#plt.show()\n",
        "print(popt)\n",
        "plt.show()\n",
        "\n",
        "\n",
        "\n",
        "\n"
      ],
      "execution_count": 62,
      "outputs": [
        {
          "output_type": "stream",
          "text": [
            "[75.13803611  2.99831361  0.07540653]\n"
          ],
          "name": "stdout"
        },
        {
          "output_type": "display_data",
          "data": {
            "image/png": "[encoded data removed]",
            "text/plain": [
              "<Figure size 432x288 with 1 Axes>"
            ]
          },
          "metadata": {
            "tags": [],
            "needs_background": "light"
          }
        }
      ]
    },
    {
      "cell_type": "code",
      "metadata": {
        "id": "gsw36gTvNP51"
      },
      "source": [
        ""
      ],
      "execution_count": null,
      "outputs": []
    }
  ]
}